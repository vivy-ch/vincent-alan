{
 "cells": [
  {
   "cell_type": "code",
   "execution_count": 1,
   "id": "0275a082-8d4e-460c-84b4-7f4511ee5552",
   "metadata": {},
   "outputs": [
    {
     "name": "stdout",
     "output_type": "stream",
     "text": [
      "ok\n"
     ]
    }
   ],
   "source": [
    "print('ok')"
   ]
  },
  {
   "cell_type": "code",
   "execution_count": 1,
   "id": "7007600f-f3b6-4cfe-92b3-d0907de5c123",
   "metadata": {},
   "outputs": [
    {
     "name": "stdout",
     "output_type": "stream",
     "text": [
<<<<<<< HEAD
      "v1\n"
=======
      "v2\n"
>>>>>>> v2
     ]
    }
   ],
   "source": [
<<<<<<< HEAD
    "print('v1')"
=======
    "print('v2')"
>>>>>>> v2
   ]
  },
  {
   "cell_type": "code",
   "execution_count": null,
<<<<<<< HEAD
   "id": "dc169f7d-bc1c-437c-a7ba-ac464c130612",
=======
   "id": "7a6f400c-8d47-4c99-814a-73588171aeef",
>>>>>>> v2
   "metadata": {},
   "outputs": [],
   "source": []
  }
 ],
 "metadata": {
  "kernelspec": {
   "display_name": "Python 3 (ipykernel)",
   "language": "python",
   "name": "python3"
  },
  "language_info": {
   "codemirror_mode": {
    "name": "ipython",
    "version": 3
   },
   "file_extension": ".py",
   "mimetype": "text/x-python",
   "name": "python",
   "nbconvert_exporter": "python",
   "pygments_lexer": "ipython3",
   "version": "3.10.12"
  }
 },
 "nbformat": 4,
 "nbformat_minor": 5
}
