{
 "cells": [
  {
   "cell_type": "code",
   "execution_count": 1,
<<<<<<< HEAD
   "id": "303ec984-fe89-45cf-9309-db168b14336c",
   "metadata": {},
   "outputs": [],
   "source": [
    "# test1"
   ]
  },
  {
   "cell_type": "code",
   "execution_count": 2,
   "id": "eec16971-a7a1-4378-a051-d51b59ad14c7",
=======
   "id": "e73d78db-996a-410a-9b33-a8f8c97888f3",
>>>>>>> v2
   "metadata": {},
   "outputs": [
    {
     "name": "stdout",
     "output_type": "stream",
     "text": [
<<<<<<< HEAD
      "v1\n"
=======
      "v2\n"
>>>>>>> v2
     ]
    }
   ],
   "source": [
<<<<<<< HEAD
    "print('v1')"
=======
    "print('v2')"
>>>>>>> v2
   ]
  },
  {
   "cell_type": "code",
   "execution_count": null,
<<<<<<< HEAD
   "id": "5b0398dc-0fbf-4ab9-b88c-e0b9a1d68338",
=======
   "id": "a0c03da2-4336-4a35-8cf1-f776466663e6",
>>>>>>> v2
   "metadata": {},
   "outputs": [],
   "source": []
  }
 ],
 "metadata": {
  "kernelspec": {
   "display_name": "Python 3 (ipykernel)",
   "language": "python",
   "name": "python3"
  },
  "language_info": {
   "codemirror_mode": {
    "name": "ipython",
    "version": 3
   },
   "file_extension": ".py",
   "mimetype": "text/x-python",
   "name": "python",
   "nbconvert_exporter": "python",
   "pygments_lexer": "ipython3",
   "version": "3.10.12"
  }
 },
 "nbformat": 4,
 "nbformat_minor": 5
}
