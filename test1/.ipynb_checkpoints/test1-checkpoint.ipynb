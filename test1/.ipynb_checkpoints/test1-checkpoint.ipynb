{
 "cells": [
  {
   "cell_type": "code",
   "execution_count": 1,
   "id": "bfd63191-75f5-4340-8a6b-519de65e714b",
   "metadata": {},
   "outputs": [
    {
     "name": "stdout",
     "output_type": "stream",
     "text": [
      "test1\n"
     ]
    }
   ],
   "source": [
    "print('test1')"
   ]
  },
  {
   "cell_type": "code",
   "execution_count": 1,
   "id": "98640ae0-ec19-42a9-81af-22b646e2f4c3",
   "metadata": {},
   "outputs": [
    {
     "name": "stdout",
     "output_type": "stream",
     "text": [
      "test2\n"
     ]
    }
   ],
   "source": [
    "print('test2')"
   ]
  },
  {
   "cell_type": "code",
   "execution_count": 1,
   "id": "86ead04d-bdde-4978-88cf-2296daf25b25",
   "metadata": {},
   "outputs": [
    {
     "name": "stdout",
     "output_type": "stream",
     "text": [
      "test3\n"
     ]
    }
   ],
   "source": [
    "print('test3')"
   ]
  },
  {
   "cell_type": "code",
   "execution_count": 1,
   "id": "108c2b6a-6761-4bf5-a4c2-b6a3356031c4",
   "metadata": {},
   "outputs": [
    {
     "name": "stdout",
     "output_type": "stream",
     "text": [
      "test4\n"
     ]
    }
   ],
   "source": [
    "print('test4')"
   ]
  },
  {
   "cell_type": "code",
   "execution_count": null,
   "id": "187ad7a8-2c39-4349-88e9-ad58d6641bc2",
   "metadata": {},
   "outputs": [],
   "source": []
  }
 ],
 "metadata": {
  "jupytext": {
   "formats": "ipynb,md"
  },
  "kernelspec": {
   "display_name": "Python 3 (ipykernel)",
   "language": "python",
   "name": "python3"
  },
  "language_info": {
   "codemirror_mode": {
    "name": "ipython",
    "version": 3
   },
   "file_extension": ".py",
   "mimetype": "text/x-python",
   "name": "python",
   "nbconvert_exporter": "python",
   "pygments_lexer": "ipython3",
   "version": "3.10.12"
  }
 },
 "nbformat": 4,
 "nbformat_minor": 5
}
